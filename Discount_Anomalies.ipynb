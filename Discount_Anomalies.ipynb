{
 "cells": [
  {
   "cell_type": "markdown",
   "id": "0bbc88ed-7219-4141-83ca-b84c9f7da572",
   "metadata": {},
   "source": [
    "<h1 align=\"center\" style=\"color:blue\"> Anomaly Detection in Discounts  </h1>"
   ]
  },
  {
   "cell_type": "code",
   "execution_count": 1,
   "id": "78228eda-f666-4928-8acd-bf595fb5ccda",
   "metadata": {},
   "outputs": [],
   "source": [
    "import pandas as pd"
   ]
  },
  {
   "cell_type": "code",
   "execution_count": 3,
   "id": "b3dec3cb-e9db-4330-80bd-9a33e6ee6590",
   "metadata": {},
   "outputs": [
    {
     "data": {
      "text/plain": [
       "(1858329, 11)"
      ]
     },
     "execution_count": 3,
     "metadata": {},
     "output_type": "execute_result"
    }
   ],
   "source": [
    "df = pd.read_csv(\"MLHW.csv\")\n",
    "df.shape"
   ]
  },
  {
   "cell_type": "code",
   "execution_count": 4,
   "id": "5b2e99bb-4b91-484c-8494-fe07cffaf760",
   "metadata": {},
   "outputs": [
    {
     "data": {
      "text/plain": [
       "Index(['date', 'product_code', 'market', 'customer_code', 'qty', 'fiscal_year',\n",
       "       'gross_sales_amt', 'net_sales_amt', 'total_cogs_amt',\n",
       "       'gross_margin_amt', 'Total_discs'],\n",
       "      dtype='object')"
      ]
     },
     "execution_count": 4,
     "metadata": {},
     "output_type": "execute_result"
    }
   ],
   "source": [
    "df.columns"
   ]
  },
  {
   "cell_type": "markdown",
   "id": "62931126-d4a0-46c8-886d-bc409045e0e9",
   "metadata": {},
   "source": [
    "<h2 align=\"center\" style=\"color:blue\"> Feature Selection </h2>"
   ]
  },
  {
   "cell_type": "markdown",
   "id": "a04ded37-9459-43fc-a965-9066b2641e21",
   "metadata": {},
   "source": [
    "Total_discs (main variable for anomaly detection)\n",
    "\n",
    "gross_sales_amt (to see discount % relative to sales)\n",
    "\n",
    "net_sales_amt (post-discount sales)\n",
    "\n",
    "qty (to catch if high discount is tied to bulk sales)"
   ]
  },
  {
   "cell_type": "markdown",
   "id": "b53c2774-47ed-4961-b5ed-498267627a9e",
   "metadata": {},
   "source": [
    "<h2 align=\"center\" style=\"color:blue\"> Feature Engineering </h2>"
   ]
  },
  {
   "cell_type": "code",
   "execution_count": 10,
   "id": "4c81e265-98e0-410f-9d34-3edd21f749b2",
   "metadata": {},
   "outputs": [],
   "source": [
    "df['discount_pct'] = (df['Total_discs'] / df['gross_sales_amt']) * 100\n",
    "df['discount_pct'] = df['discount_pct'].fillna(0)"
   ]
  },
  {
   "cell_type": "markdown",
   "id": "8775e354-a2cc-401e-93a1-1833cd137a14",
   "metadata": {},
   "source": [
    "<h2 align=\"center\" style=\"color:blue\"> Scaling </h2>"
   ]
  },
  {
   "cell_type": "code",
   "execution_count": 15,
   "id": "23625cad-a2e4-4b71-a991-1a99af9c857d",
   "metadata": {},
   "outputs": [],
   "source": [
    "from sklearn.preprocessing import StandardScaler\n",
    "\n",
    "features = ['discount_pct', 'qty', 'gross_sales_amt', 'net_sales_amt']\n",
    "scaler = StandardScaler()\n",
    "X_scaled = scaler.fit_transform(df[features])"
   ]
  },
  {
   "cell_type": "markdown",
   "id": "4c406294-fd49-45aa-9a75-124351e62bb7",
   "metadata": {},
   "source": [
    "#### Isolation Forest"
   ]
  },
  {
   "cell_type": "markdown",
   "id": "c8db057a-9a54-4418-922f-4fdd4c61fa70",
   "metadata": {},
   "source": [
    "Isolation Forest is an unsupervised machine learning algorithm for anomaly detection.\n",
    "Anomalies get isolated in fewer splits because they’re far away from most data.                                                      \n",
    "Works well on tabular numeric data → Your discount %, qty, sales, costs are perfect for this.\n",
    "\n",
    "Handles large datasets efficiently → You have 1.85M rows; Isolation Forest is built for this scale.\n",
    "\n",
    "Captures multivariate anomalies → It will detect not just “discount > 80%” but also “discount is high compared to typical qty & product behavior.\n",
    "\n",
    "Isolation Forest uses patterns across multiple features:\n",
    "\n",
    "If a high discount comes with a huge qty → could be normal (bulk promo)\n",
    "\n",
    "If a high discount comes with a small qty → suspicious\n",
    "\n",
    "If a high discount appears in a product that has never been discounted → suspicious\n",
    "\n",
    "This context-based filtering is where ML beats a static rule."
   ]
  },
  {
   "cell_type": "code",
   "execution_count": 21,
   "id": "c3b25656-d6a8-4069-9fc4-93c6868f2d11",
   "metadata": {},
   "outputs": [],
   "source": [
    "from sklearn.preprocessing import StandardScaler\n",
    "import numpy as np\n",
    "\n",
    "# Fill NaN with 0 before scaling\n",
    "df[features] = df[features].fillna(0)\n",
    "\n",
    "# Scale data\n",
    "scaler = StandardScaler()\n",
    "X_scaled = scaler.fit_transform(df[features])\n",
    "\n",
    "# Isolation Forest\n",
    "from sklearn.ensemble import IsolationForest\n",
    "iso = IsolationForest(\n",
    "    n_estimators=100,\n",
    "    contamination=0.01,  # 1% anomalies\n",
    "    random_state=42\n",
    ")\n",
    "\n",
    "df['anomaly_flag'] = iso.fit_predict(X_scaled)  # -1 = anomaly, 1 = normal"
   ]
  },
  {
   "cell_type": "code",
   "execution_count": 31,
   "id": "36de20d7-a2ac-4181-aae1-8669f94577f8",
   "metadata": {},
   "outputs": [
    {
     "name": "stdout",
     "output_type": "stream",
     "text": [
      "count   1858329.00\n",
      "mean         49.35\n",
      "std           6.74\n",
      "min           0.00\n",
      "25%          45.01\n",
      "50%          49.72\n",
      "75%          54.25\n",
      "max          68.48\n",
      "Name: discount_pct, dtype: float64\n"
     ]
    }
   ],
   "source": [
    "pd.set_option('display.float_format', '{:.2f}'.format)\n",
    "\n",
    "print(df['discount_pct'].describe())"
   ]
  },
  {
   "cell_type": "markdown",
   "id": "fc16e1c2-0b53-4649-82ee-48a2719d31ae",
   "metadata": {},
   "source": [
    "<h2 align=\"center\" style=\"color:blue\"> Threshold to determine Anomaly </h2>"
   ]
  },
  {
   "cell_type": "code",
   "execution_count": 33,
   "id": "f312f27e-f953-41b7-b77d-1437be9ced73",
   "metadata": {},
   "outputs": [
    {
     "name": "stdout",
     "output_type": "stream",
     "text": [
      "62.46252743756972\n"
     ]
    }
   ],
   "source": [
    "threshold = df['discount_pct'].quantile(0.99)  # 99th percentile\n",
    "print(threshold)"
   ]
  },
  {
   "cell_type": "code",
   "execution_count": 37,
   "id": "5374c406-c9df-4c37-915d-fdc6f6e986b1",
   "metadata": {},
   "outputs": [
    {
     "data": {
      "text/html": [
       "<div>\n",
       "<style scoped>\n",
       "    .dataframe tbody tr th:only-of-type {\n",
       "        vertical-align: middle;\n",
       "    }\n",
       "\n",
       "    .dataframe tbody tr th {\n",
       "        vertical-align: top;\n",
       "    }\n",
       "\n",
       "    .dataframe thead th {\n",
       "        text-align: right;\n",
       "    }\n",
       "</style>\n",
       "<table border=\"1\" class=\"dataframe\">\n",
       "  <thead>\n",
       "    <tr style=\"text-align: right;\">\n",
       "      <th></th>\n",
       "      <th>date</th>\n",
       "      <th>product_code</th>\n",
       "      <th>market</th>\n",
       "      <th>customer_code</th>\n",
       "      <th>qty</th>\n",
       "      <th>fiscal_year</th>\n",
       "      <th>gross_sales_amt</th>\n",
       "      <th>net_sales_amt</th>\n",
       "      <th>total_cogs_amt</th>\n",
       "      <th>gross_margin_amt</th>\n",
       "      <th>Total_discs</th>\n",
       "      <th>discount_pct</th>\n",
       "      <th>anomaly_flag</th>\n",
       "    </tr>\n",
       "  </thead>\n",
       "  <tbody>\n",
       "    <tr>\n",
       "      <th>240243</th>\n",
       "      <td>2019-09-01</td>\n",
       "      <td>A7219160201</td>\n",
       "      <td>South Korea</td>\n",
       "      <td>80007195</td>\n",
       "      <td>1582</td>\n",
       "      <td>2020</td>\n",
       "      <td>44950.95</td>\n",
       "      <td>16869.43</td>\n",
       "      <td>13945.46</td>\n",
       "      <td>2923.96</td>\n",
       "      <td>28081.52</td>\n",
       "      <td>62.47</td>\n",
       "      <td>-1</td>\n",
       "    </tr>\n",
       "    <tr>\n",
       "      <th>303844</th>\n",
       "      <td>2019-11-01</td>\n",
       "      <td>A6218160101</td>\n",
       "      <td>South Korea</td>\n",
       "      <td>80007196</td>\n",
       "      <td>2317</td>\n",
       "      <td>2020</td>\n",
       "      <td>31745.45</td>\n",
       "      <td>11785.72</td>\n",
       "      <td>9782.93</td>\n",
       "      <td>2002.79</td>\n",
       "      <td>19959.73</td>\n",
       "      <td>62.87</td>\n",
       "      <td>-1</td>\n",
       "    </tr>\n",
       "    <tr>\n",
       "      <th>304315</th>\n",
       "      <td>2019-11-01</td>\n",
       "      <td>A6319160201</td>\n",
       "      <td>South Korea</td>\n",
       "      <td>80007196</td>\n",
       "      <td>2473</td>\n",
       "      <td>2020</td>\n",
       "      <td>40801.53</td>\n",
       "      <td>14724.72</td>\n",
       "      <td>12863.23</td>\n",
       "      <td>1861.49</td>\n",
       "      <td>26076.81</td>\n",
       "      <td>63.91</td>\n",
       "      <td>-1</td>\n",
       "    </tr>\n",
       "    <tr>\n",
       "      <th>317970</th>\n",
       "      <td>2019-11-01</td>\n",
       "      <td>A3320150503</td>\n",
       "      <td>South Korea</td>\n",
       "      <td>80007196</td>\n",
       "      <td>1604</td>\n",
       "      <td>2020</td>\n",
       "      <td>30255.61</td>\n",
       "      <td>10784.90</td>\n",
       "      <td>9651.87</td>\n",
       "      <td>1133.03</td>\n",
       "      <td>19470.71</td>\n",
       "      <td>64.35</td>\n",
       "      <td>-1</td>\n",
       "    </tr>\n",
       "    <tr>\n",
       "      <th>322258</th>\n",
       "      <td>2019-11-01</td>\n",
       "      <td>A2319150303</td>\n",
       "      <td>South Korea</td>\n",
       "      <td>80007196</td>\n",
       "      <td>1878</td>\n",
       "      <td>2020</td>\n",
       "      <td>17257.32</td>\n",
       "      <td>6274.21</td>\n",
       "      <td>5231.96</td>\n",
       "      <td>1042.26</td>\n",
       "      <td>10983.10</td>\n",
       "      <td>63.64</td>\n",
       "      <td>-1</td>\n",
       "    </tr>\n",
       "    <tr>\n",
       "      <th>...</th>\n",
       "      <td>...</td>\n",
       "      <td>...</td>\n",
       "      <td>...</td>\n",
       "      <td>...</td>\n",
       "      <td>...</td>\n",
       "      <td>...</td>\n",
       "      <td>...</td>\n",
       "      <td>...</td>\n",
       "      <td>...</td>\n",
       "      <td>...</td>\n",
       "      <td>...</td>\n",
       "      <td>...</td>\n",
       "      <td>...</td>\n",
       "    </tr>\n",
       "    <tr>\n",
       "      <th>1781221</th>\n",
       "      <td>2022-07-01</td>\n",
       "      <td>A1521150601</td>\n",
       "      <td>Philiphines</td>\n",
       "      <td>80006155</td>\n",
       "      <td>540</td>\n",
       "      <td>2022</td>\n",
       "      <td>106942.03</td>\n",
       "      <td>38166.19</td>\n",
       "      <td>33185.07</td>\n",
       "      <td>4981.12</td>\n",
       "      <td>68775.84</td>\n",
       "      <td>64.31</td>\n",
       "      <td>-1</td>\n",
       "    </tr>\n",
       "    <tr>\n",
       "      <th>1781535</th>\n",
       "      <td>2022-07-01</td>\n",
       "      <td>A1521150603</td>\n",
       "      <td>Philiphines</td>\n",
       "      <td>80006155</td>\n",
       "      <td>455</td>\n",
       "      <td>2022</td>\n",
       "      <td>97613.74</td>\n",
       "      <td>33054.06</td>\n",
       "      <td>30056.34</td>\n",
       "      <td>2997.71</td>\n",
       "      <td>64559.69</td>\n",
       "      <td>66.14</td>\n",
       "      <td>-1</td>\n",
       "    </tr>\n",
       "    <tr>\n",
       "      <th>1835189</th>\n",
       "      <td>2022-08-01</td>\n",
       "      <td>A1521150601</td>\n",
       "      <td>Philiphines</td>\n",
       "      <td>80006155</td>\n",
       "      <td>385</td>\n",
       "      <td>2022</td>\n",
       "      <td>76245.71</td>\n",
       "      <td>28218.13</td>\n",
       "      <td>23692.76</td>\n",
       "      <td>4525.36</td>\n",
       "      <td>48027.58</td>\n",
       "      <td>62.99</td>\n",
       "      <td>-1</td>\n",
       "    </tr>\n",
       "    <tr>\n",
       "      <th>1847355</th>\n",
       "      <td>2022-08-01</td>\n",
       "      <td>A6018110103</td>\n",
       "      <td>Philiphines</td>\n",
       "      <td>80006155</td>\n",
       "      <td>141</td>\n",
       "      <td>2022</td>\n",
       "      <td>119880.30</td>\n",
       "      <td>43835.47</td>\n",
       "      <td>36374.68</td>\n",
       "      <td>7460.78</td>\n",
       "      <td>76044.83</td>\n",
       "      <td>63.43</td>\n",
       "      <td>-1</td>\n",
       "    </tr>\n",
       "    <tr>\n",
       "      <th>1849071</th>\n",
       "      <td>2022-08-01</td>\n",
       "      <td>A6120110206</td>\n",
       "      <td>Philiphines</td>\n",
       "      <td>80006155</td>\n",
       "      <td>151</td>\n",
       "      <td>2022</td>\n",
       "      <td>132541.14</td>\n",
       "      <td>49428.39</td>\n",
       "      <td>39758.29</td>\n",
       "      <td>9670.09</td>\n",
       "      <td>83112.75</td>\n",
       "      <td>62.71</td>\n",
       "      <td>-1</td>\n",
       "    </tr>\n",
       "  </tbody>\n",
       "</table>\n",
       "<p>120 rows × 13 columns</p>\n",
       "</div>"
      ],
      "text/plain": [
       "               date product_code       market  customer_code   qty  \\\n",
       "240243   2019-09-01  A7219160201  South Korea       80007195  1582   \n",
       "303844   2019-11-01  A6218160101  South Korea       80007196  2317   \n",
       "304315   2019-11-01  A6319160201  South Korea       80007196  2473   \n",
       "317970   2019-11-01  A3320150503  South Korea       80007196  1604   \n",
       "322258   2019-11-01  A2319150303  South Korea       80007196  1878   \n",
       "...             ...          ...          ...            ...   ...   \n",
       "1781221  2022-07-01  A1521150601  Philiphines       80006155   540   \n",
       "1781535  2022-07-01  A1521150603  Philiphines       80006155   455   \n",
       "1835189  2022-08-01  A1521150601  Philiphines       80006155   385   \n",
       "1847355  2022-08-01  A6018110103  Philiphines       80006155   141   \n",
       "1849071  2022-08-01  A6120110206  Philiphines       80006155   151   \n",
       "\n",
       "         fiscal_year  gross_sales_amt  net_sales_amt  total_cogs_amt  \\\n",
       "240243          2020         44950.95       16869.43        13945.46   \n",
       "303844          2020         31745.45       11785.72         9782.93   \n",
       "304315          2020         40801.53       14724.72        12863.23   \n",
       "317970          2020         30255.61       10784.90         9651.87   \n",
       "322258          2020         17257.32        6274.21         5231.96   \n",
       "...              ...              ...            ...             ...   \n",
       "1781221         2022        106942.03       38166.19        33185.07   \n",
       "1781535         2022         97613.74       33054.06        30056.34   \n",
       "1835189         2022         76245.71       28218.13        23692.76   \n",
       "1847355         2022        119880.30       43835.47        36374.68   \n",
       "1849071         2022        132541.14       49428.39        39758.29   \n",
       "\n",
       "         gross_margin_amt  Total_discs  discount_pct  anomaly_flag  \n",
       "240243            2923.96     28081.52         62.47            -1  \n",
       "303844            2002.79     19959.73         62.87            -1  \n",
       "304315            1861.49     26076.81         63.91            -1  \n",
       "317970            1133.03     19470.71         64.35            -1  \n",
       "322258            1042.26     10983.10         63.64            -1  \n",
       "...                   ...          ...           ...           ...  \n",
       "1781221           4981.12     68775.84         64.31            -1  \n",
       "1781535           2997.71     64559.69         66.14            -1  \n",
       "1835189           4525.36     48027.58         62.99            -1  \n",
       "1847355           7460.78     76044.83         63.43            -1  \n",
       "1849071           9670.09     83112.75         62.71            -1  \n",
       "\n",
       "[120 rows x 13 columns]"
      ]
     },
     "execution_count": 37,
     "metadata": {},
     "output_type": "execute_result"
    }
   ],
   "source": [
    "anomalies = df[(df['anomaly_flag'] == -1) & (df['discount_pct'] > threshold)]\n",
    "anomalies"
   ]
  },
  {
   "cell_type": "markdown",
   "id": "484ea244-75ac-426a-8900-0d83c72c1805",
   "metadata": {},
   "source": [
    "<h2 align=\"center\" style=\"color:blue\"> Visualizing Anomalies </h2>"
   ]
  },
  {
   "cell_type": "code",
   "execution_count": 44,
   "id": "a3e587c2-34ec-40db-9220-0ef0b1ba8bde",
   "metadata": {},
   "outputs": [
    {
     "data": {
      "image/png": "[encoded data removed]",
      "text/plain": [
       "<Figure size 1200x600 with 1 Axes>"
      ]
     },
     "metadata": {},
     "output_type": "display_data"
    }
   ],
   "source": [
    "#Market/Product-level Anomaly Rate\n",
    "import seaborn as sns\n",
    "\n",
    "anomaly_rate = (\n",
    "    df.groupby('market')['anomaly_flag']\n",
    "      .apply(lambda x: (x==-1).mean()*100)\n",
    "      .sort_values(ascending=False)\n",
    ")\n",
    "\n",
    "plt.figure(figsize=(12,6))\n",
    "anomaly_rate.plot(kind='bar', color='orange')\n",
    "plt.ylabel(\"Anomaly %\")\n",
    "plt.title(\"Anomaly Rate by Market\")\n",
    "plt.show()"
   ]
  },
  {
   "cell_type": "code",
   "execution_count": null,
   "id": "07a6fc5b-e0ee-4040-8654-66e509c9b568",
   "metadata": {},
   "outputs": [],
   "source": []
  },
  {
   "cell_type": "code",
   "execution_count": null,
   "id": "0fbacbcc-50b5-414b-b407-d2c4bbee996a",
   "metadata": {},
   "outputs": [],
   "source": []
  },
  {
   "cell_type": "code",
   "execution_count": null,
   "id": "30488f0a-5ac2-40bc-a009-5899b408249a",
   "metadata": {},
   "outputs": [],
   "source": []
  },
  {
   "cell_type": "code",
   "execution_count": null,
   "id": "0633805c-b215-4d0b-b623-bac0b9804680",
   "metadata": {},
   "outputs": [],
   "source": []
  },
  {
   "cell_type": "code",
   "execution_count": null,
   "id": "887c8139-3203-4ece-ad38-b8009cc3da57",
   "metadata": {},
   "outputs": [],
   "source": []
  },
  {
   "cell_type": "code",
   "execution_count": null,
   "id": "9752111c-a321-4557-9082-ee5c3565c7ef",
   "metadata": {},
   "outputs": [],
   "source": []
  },
  {
   "cell_type": "code",
   "execution_count": null,
   "id": "72b68a1f-cc3c-4b86-ba39-6305362a8070",
   "metadata": {},
   "outputs": [],
   "source": []
  }
 ],
 "metadata": {
  "kernelspec": {
   "display_name": "Python 3 (ipykernel)",
   "language": "python",
   "name": "python3"
  },
  "language_info": {
   "codemirror_mode": {
    "name": "ipython",
    "version": 3
   },
   "file_extension": ".py",
   "mimetype": "text/x-python",
   "name": "python",
   "nbconvert_exporter": "python",
   "pygments_lexer": "ipython3",
   "version": "3.13.5"
  }
 },
 "nbformat": 4,
 "nbformat_minor": 5
}
