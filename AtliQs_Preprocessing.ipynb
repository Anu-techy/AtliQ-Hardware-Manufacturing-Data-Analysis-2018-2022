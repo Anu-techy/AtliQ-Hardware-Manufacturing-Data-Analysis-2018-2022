{
 "cells": [
  {
   "cell_type": "markdown",
   "id": "08a3c60d-f88f-4dc3-8b9c-5029223d0b5e",
   "metadata": {},
   "source": [
    "<h1 align=\"center\" style=\"color:blue\"> AtliQs Transaction Data Preprocessing  </h1>"
   ]
  },
  {
   "cell_type": "code",
   "execution_count": 1,
   "id": "d9125f82-3c7b-4c9a-a3fb-a06039c234c7",
   "metadata": {},
   "outputs": [],
   "source": [
    "import pandas as pd\n",
    "import warnings\n",
    "warnings.filterwarnings(\"ignore\")"
   ]
  },
  {
   "cell_type": "markdown",
   "id": "c85b8b25-2ed3-4be6-9fa1-5bc45eecd636",
   "metadata": {},
   "source": [
    "<h2 align=\"center\" style=\"color:blue\">Data Loading </h2>"
   ]
  },
  {
   "cell_type": "code",
   "execution_count": 11,
   "id": "0ecc7b23-9046-4c23-be15-d28f41efd266",
   "metadata": {},
   "outputs": [
    {
     "data": {
      "text/plain": [
       "(1858329, 11)"
      ]
     },
     "execution_count": 11,
     "metadata": {},
     "output_type": "execute_result"
    }
   ],
   "source": [
    "fae = pd.read_csv(\"FactActualsEstimates.csv\")\n",
    "fae.shape"
   ]
  },
  {
   "cell_type": "code",
   "execution_count": 13,
   "id": "14c76ef1-ed65-4663-8201-0e1cfec46013",
   "metadata": {},
   "outputs": [
    {
     "data": {
      "text/plain": [
       "Index(['date', 'division', 'category', 'product_code', 'product', 'market',\n",
       "       'platform', 'channel', 'customer_code', 'customer_name', 'qty'],\n",
       "      dtype='object')"
      ]
     },
     "execution_count": 13,
     "metadata": {},
     "output_type": "execute_result"
    }
   ],
   "source": [
    "fae.columns"
   ]
  },
  {
   "cell_type": "code",
   "execution_count": 21,
   "id": "2b126e33-6f78-4d7c-82ef-48d0b25cb553",
   "metadata": {},
   "outputs": [
    {
     "data": {
      "text/html": [
       "<div>\n",
       "<style scoped>\n",
       "    .dataframe tbody tr th:only-of-type {\n",
       "        vertical-align: middle;\n",
       "    }\n",
       "\n",
       "    .dataframe tbody tr th {\n",
       "        vertical-align: top;\n",
       "    }\n",
       "\n",
       "    .dataframe thead th {\n",
       "        text-align: right;\n",
       "    }\n",
       "</style>\n",
       "<table border=\"1\" class=\"dataframe\">\n",
       "  <thead>\n",
       "    <tr style=\"text-align: right;\">\n",
       "      <th></th>\n",
       "      <th>date</th>\n",
       "      <th>division</th>\n",
       "      <th>category</th>\n",
       "      <th>product_code</th>\n",
       "      <th>product</th>\n",
       "      <th>market</th>\n",
       "      <th>platform</th>\n",
       "      <th>channel</th>\n",
       "      <th>customer_code</th>\n",
       "      <th>customer_name</th>\n",
       "      <th>qty</th>\n",
       "      <th>fiscal_year</th>\n",
       "    </tr>\n",
       "  </thead>\n",
       "  <tbody>\n",
       "    <tr>\n",
       "      <th>0</th>\n",
       "      <td>2017-09-01</td>\n",
       "      <td>N &amp; S</td>\n",
       "      <td>External Solid State Drives</td>\n",
       "      <td>A6218160101</td>\n",
       "      <td>AQ Digit SSD</td>\n",
       "      <td>Australia</td>\n",
       "      <td>Brick &amp; Mortar</td>\n",
       "      <td>Direct</td>\n",
       "      <td>70008169</td>\n",
       "      <td>AltiQ Exclusive</td>\n",
       "      <td>81</td>\n",
       "      <td>2018</td>\n",
       "    </tr>\n",
       "    <tr>\n",
       "      <th>1</th>\n",
       "      <td>2017-09-01</td>\n",
       "      <td>N &amp; S</td>\n",
       "      <td>External Solid State Drives</td>\n",
       "      <td>A6218160101</td>\n",
       "      <td>AQ Digit SSD</td>\n",
       "      <td>Australia</td>\n",
       "      <td>Brick &amp; Mortar</td>\n",
       "      <td>Retailer</td>\n",
       "      <td>90008165</td>\n",
       "      <td>Forward Stores</td>\n",
       "      <td>157</td>\n",
       "      <td>2018</td>\n",
       "    </tr>\n",
       "    <tr>\n",
       "      <th>2</th>\n",
       "      <td>2017-09-01</td>\n",
       "      <td>N &amp; S</td>\n",
       "      <td>External Solid State Drives</td>\n",
       "      <td>A6218160101</td>\n",
       "      <td>AQ Digit SSD</td>\n",
       "      <td>Australia</td>\n",
       "      <td>Brick &amp; Mortar</td>\n",
       "      <td>Retailer</td>\n",
       "      <td>90008166</td>\n",
       "      <td>Sound</td>\n",
       "      <td>126</td>\n",
       "      <td>2018</td>\n",
       "    </tr>\n",
       "    <tr>\n",
       "      <th>3</th>\n",
       "      <td>2017-09-01</td>\n",
       "      <td>N &amp; S</td>\n",
       "      <td>External Solid State Drives</td>\n",
       "      <td>A6218160101</td>\n",
       "      <td>AQ Digit SSD</td>\n",
       "      <td>Australia</td>\n",
       "      <td>Brick &amp; Mortar</td>\n",
       "      <td>Retailer</td>\n",
       "      <td>90008167</td>\n",
       "      <td>Electricalsocity</td>\n",
       "      <td>160</td>\n",
       "      <td>2018</td>\n",
       "    </tr>\n",
       "    <tr>\n",
       "      <th>4</th>\n",
       "      <td>2017-09-01</td>\n",
       "      <td>N &amp; S</td>\n",
       "      <td>External Solid State Drives</td>\n",
       "      <td>A6218160101</td>\n",
       "      <td>AQ Digit SSD</td>\n",
       "      <td>Australia</td>\n",
       "      <td>E-Commerce</td>\n",
       "      <td>Direct</td>\n",
       "      <td>70008170</td>\n",
       "      <td>Atliq e Store</td>\n",
       "      <td>120</td>\n",
       "      <td>2018</td>\n",
       "    </tr>\n",
       "  </tbody>\n",
       "</table>\n",
       "</div>"
      ],
      "text/plain": [
       "        date division                     category product_code       product  \\\n",
       "0 2017-09-01    N & S  External Solid State Drives  A6218160101  AQ Digit SSD   \n",
       "1 2017-09-01    N & S  External Solid State Drives  A6218160101  AQ Digit SSD   \n",
       "2 2017-09-01    N & S  External Solid State Drives  A6218160101  AQ Digit SSD   \n",
       "3 2017-09-01    N & S  External Solid State Drives  A6218160101  AQ Digit SSD   \n",
       "4 2017-09-01    N & S  External Solid State Drives  A6218160101  AQ Digit SSD   \n",
       "\n",
       "      market        platform   channel  customer_code     customer_name  qty  \\\n",
       "0  Australia  Brick & Mortar    Direct       70008169   AltiQ Exclusive   81   \n",
       "1  Australia  Brick & Mortar  Retailer       90008165    Forward Stores  157   \n",
       "2  Australia  Brick & Mortar  Retailer       90008166             Sound  126   \n",
       "3  Australia  Brick & Mortar  Retailer       90008167  Electricalsocity  160   \n",
       "4  Australia      E-Commerce    Direct       70008170     Atliq e Store  120   \n",
       "\n",
       "   fiscal_year  \n",
       "0         2018  \n",
       "1         2018  \n",
       "2         2018  \n",
       "3         2018  \n",
       "4         2018  "
      ]
     },
     "execution_count": 21,
     "metadata": {},
     "output_type": "execute_result"
    }
   ],
   "source": [
    "fae.head()"
   ]
  },
  {
   "cell_type": "markdown",
   "id": "04a531c0-584b-4741-b9b6-ebe86e513233",
   "metadata": {},
   "source": [
    "<h2 align=\"center\" style=\"color:blue\"> Fiscal Year column </h2>"
   ]
  },
  {
   "cell_type": "markdown",
   "id": "cc01f743-10a6-4367-87db-ceea9cc08116",
   "metadata": {},
   "source": [
    "since gross price table has fiscal year, hence we are deriving a fiscal year column from fae[\"date\"] by adding 4 month to each date"
   ]
  },
  {
   "cell_type": "code",
   "execution_count": 15,
   "id": "789651f2-cdc7-4207-947d-6adca9cf92ae",
   "metadata": {},
   "outputs": [
    {
     "name": "stdout",
     "output_type": "stream",
     "text": [
      "<class 'pandas.core.frame.DataFrame'>\n",
      "RangeIndex: 1858329 entries, 0 to 1858328\n",
      "Data columns (total 11 columns):\n",
      " #   Column         Dtype \n",
      "---  ------         ----- \n",
      " 0   date           object\n",
      " 1   division       object\n",
      " 2   category       object\n",
      " 3   product_code   object\n",
      " 4   product        object\n",
      " 5   market         object\n",
      " 6   platform       object\n",
      " 7   channel        object\n",
      " 8   customer_code  int64 \n",
      " 9   customer_name  object\n",
      " 10  qty            int64 \n",
      "dtypes: int64(2), object(9)\n",
      "memory usage: 156.0+ MB\n"
     ]
    }
   ],
   "source": [
    "fae.info()"
   ]
  },
  {
   "cell_type": "code",
   "execution_count": 17,
   "id": "bd2c9e91-65e9-476a-8f7d-0c914e22eada",
   "metadata": {},
   "outputs": [],
   "source": [
    "fae['date'] = pd.to_datetime(fae['date'])"
   ]
  },
  {
   "cell_type": "code",
   "execution_count": 19,
   "id": "16940e8d-fe8d-4cd0-b39d-a0dd4108a0bb",
   "metadata": {},
   "outputs": [],
   "source": [
    "fae['fiscal_year'] = (fae['date'] + pd.DateOffset(months=4)).dt.year"
   ]
  },
  {
   "cell_type": "markdown",
   "id": "ccfb8b1c-3c4d-4cef-bd8a-2d8f7710e9f9",
   "metadata": {},
   "source": [
    "<h2 align=\"center\" style=\"color:blue\">Importing and joining with gross price table </h2>"
   ]
  },
  {
   "cell_type": "markdown",
   "id": "f1ad3ca8-4d21-46e1-9aab-f78e1665c3bd",
   "metadata": {},
   "source": [
    "We need gross price table to calculate gross sales amount in transactions table"
   ]
  },
  {
   "cell_type": "code",
   "execution_count": 26,
   "id": "14b6e2cd-cc85-464d-ad46-6df7a201403a",
   "metadata": {},
   "outputs": [
    {
     "data": {
      "text/plain": [
       "(1197, 3)"
      ]
     },
     "execution_count": 26,
     "metadata": {},
     "output_type": "execute_result"
    }
   ],
   "source": [
    "gp = pd.read_csv(\"gross_df.csv\")\n",
    "gp.shape"
   ]
  },
  {
   "cell_type": "code",
   "execution_count": 28,
   "id": "7501b904-54ac-4a71-b7ad-3b9d1e99421f",
   "metadata": {},
   "outputs": [
    {
     "data": {
      "text/plain": [
       "Index(['product_code', 'fiscal_year', 'gross_price'], dtype='object')"
      ]
     },
     "execution_count": 28,
     "metadata": {},
     "output_type": "execute_result"
    }
   ],
   "source": [
    "gp.columns"
   ]
  },
  {
   "cell_type": "markdown",
   "id": "5a91d148-ff7f-4505-9a37-c9eedd77727b",
   "metadata": {},
   "source": [
    "## Join fae with gp table on product_code, fiscal_year"
   ]
  },
  {
   "cell_type": "code",
   "execution_count": 30,
   "id": "90885427-a211-448f-b076-14d9644436c9",
   "metadata": {},
   "outputs": [],
   "source": [
    "merged_fae = pd.merge(\n",
    "    fae,\n",
    "    gp,\n",
    "    how='left',  # or 'inner', 'right', 'outer' depending on your use case\n",
    "    on=['product_code', 'fiscal_year']\n",
    ")"
   ]
  },
  {
   "cell_type": "code",
   "execution_count": 32,
   "id": "22d27465-7157-4485-88ff-6baa0c77e3f1",
   "metadata": {},
   "outputs": [
    {
     "data": {
      "text/plain": [
       "(1858329, 13)"
      ]
     },
     "execution_count": 32,
     "metadata": {},
     "output_type": "execute_result"
    }
   ],
   "source": [
    "merged_fae.shape"
   ]
  },
  {
   "cell_type": "code",
   "execution_count": 34,
   "id": "f54e00eb-4ea8-49d9-885d-db90ec0de499",
   "metadata": {},
   "outputs": [
    {
     "data": {
      "text/plain": [
       "Index(['date', 'division', 'category', 'product_code', 'product', 'market',\n",
       "       'platform', 'channel', 'customer_code', 'customer_name', 'qty',\n",
       "       'fiscal_year', 'gross_price'],\n",
       "      dtype='object')"
      ]
     },
     "execution_count": 34,
     "metadata": {},
     "output_type": "execute_result"
    }
   ],
   "source": [
    "merged_fae.columns"
   ]
  },
  {
   "cell_type": "markdown",
   "id": "6bd8489a-f2d7-420f-b5fa-7bc0d407ac77",
   "metadata": {},
   "source": [
    "<h2 align=\"center\" style=\"color:blue\">Gross Sales Amount</h2>"
   ]
  },
  {
   "cell_type": "markdown",
   "id": "c5b23022-2d5c-451c-882f-5d242ae692fd",
   "metadata": {},
   "source": [
    "gross price is the price of single unit of that respective product_code in that fiscal_year\n",
    "we need to calculate gross_price_amt which is qty * gross_price"
   ]
  },
  {
   "cell_type": "code",
   "execution_count": 36,
   "id": "46d74d30-407f-496b-905f-745c74559c0a",
   "metadata": {},
   "outputs": [],
   "source": [
    "merged_fae[\"gross_sales_amt\"] = merged_fae[\"gross_price\"] * merged_fae[\"qty\"]"
   ]
  },
  {
   "cell_type": "code",
   "execution_count": 38,
   "id": "6ccb716b-0f29-44cb-97b9-bb58a2759339",
   "metadata": {},
   "outputs": [
    {
     "data": {
      "text/plain": [
       "Index(['date', 'division', 'category', 'product_code', 'product', 'market',\n",
       "       'platform', 'channel', 'customer_code', 'customer_name', 'qty',\n",
       "       'fiscal_year', 'gross_price', 'gross_sales_amt'],\n",
       "      dtype='object')"
      ]
     },
     "execution_count": 38,
     "metadata": {},
     "output_type": "execute_result"
    }
   ],
   "source": [
    "merged_fae.columns"
   ]
  },
  {
   "cell_type": "markdown",
   "id": "453baf76-ba88-4a33-947b-d7def228e95a",
   "metadata": {},
   "source": [
    "<h2 align=\"center\" style=\"color:blue\">Importing and joining with pre_invoice_deductions table </h2>"
   ]
  },
  {
   "cell_type": "markdown",
   "id": "1dd7bbaf-db9e-4133-89be-70123d925401",
   "metadata": {},
   "source": [
    "Importing pre invoice table is important to get pre inovice discount pct to calculate pre invoice deductions"
   ]
  },
  {
   "cell_type": "markdown",
   "id": "be1b5a6f-8ea1-48a2-ba52-422644ece2a4",
   "metadata": {},
   "source": [
    "#### Importing pre_invoice_deductions table from pre_df.csv"
   ]
  },
  {
   "cell_type": "code",
   "execution_count": 42,
   "id": "53339d7d-6741-4ab2-9f1a-cd375093eb4a",
   "metadata": {},
   "outputs": [
    {
     "data": {
      "text/plain": [
       "(1045, 3)"
      ]
     },
     "execution_count": 42,
     "metadata": {},
     "output_type": "execute_result"
    }
   ],
   "source": [
    "pre = pd.read_csv(\"pre_df.csv\")\n",
    "pre.shape"
   ]
  },
  {
   "cell_type": "code",
   "execution_count": 44,
   "id": "dbb2b460-e92e-494f-b355-a7228fac222a",
   "metadata": {},
   "outputs": [
    {
     "data": {
      "text/plain": [
       "Index(['customer_code', 'fiscal_year', 'pre_invoice_discount_pct'], dtype='object')"
      ]
     },
     "execution_count": 44,
     "metadata": {},
     "output_type": "execute_result"
    }
   ],
   "source": [
    "pre.columns"
   ]
  },
  {
   "cell_type": "markdown",
   "id": "f68cfe0c-a0d9-4f76-a39e-4d39a669f220",
   "metadata": {},
   "source": [
    "## Join merged_fae with pre table on customer_code, fiscal_year"
   ]
  },
  {
   "cell_type": "code",
   "execution_count": 47,
   "id": "49580a07-77e5-458e-9ed6-26b026335d99",
   "metadata": {},
   "outputs": [],
   "source": [
    "nmerge_fae = pd.merge(\n",
    "    merged_fae,\n",
    "    pre,\n",
    "    how='left',  # or 'inner', 'right', 'outer' depending on your use case\n",
    "    on=['customer_code', 'fiscal_year']\n",
    ")"
   ]
  },
  {
   "cell_type": "code",
   "execution_count": 49,
   "id": "b18ead91-ab64-4e6d-9927-100445c6b277",
   "metadata": {},
   "outputs": [
    {
     "data": {
      "text/plain": [
       "(1858329, 15)"
      ]
     },
     "execution_count": 49,
     "metadata": {},
     "output_type": "execute_result"
    }
   ],
   "source": [
    "nmerge_fae.shape"
   ]
  },
  {
   "cell_type": "code",
   "execution_count": 51,
   "id": "2b8acb2a-ddf3-45de-a99f-cb6284083662",
   "metadata": {},
   "outputs": [
    {
     "data": {
      "text/plain": [
       "Index(['date', 'division', 'category', 'product_code', 'product', 'market',\n",
       "       'platform', 'channel', 'customer_code', 'customer_name', 'qty',\n",
       "       'fiscal_year', 'gross_price', 'gross_sales_amt',\n",
       "       'pre_invoice_discount_pct'],\n",
       "      dtype='object')"
      ]
     },
     "execution_count": 51,
     "metadata": {},
     "output_type": "execute_result"
    }
   ],
   "source": [
    "nmerge_fae.columns"
   ]
  },
  {
   "cell_type": "markdown",
   "id": "13e14fb2-7021-41d7-a599-2a9d0b7bd99c",
   "metadata": {},
   "source": [
    "<h2 align=\"center\" style=\"color:blue\">Calculating pre_invoice_disc_amt column </h2>"
   ]
  },
  {
   "cell_type": "code",
   "execution_count": 29,
   "id": "0365cd75-f5a3-469f-adc7-443f0080ae63",
   "metadata": {},
   "outputs": [],
   "source": [
    "nmerge_fae[\"pre_invoice_disc_amt\"] = nmerge_fae[\"gross_sales_amt\"] * nmerge_fae[\"pre_invoice_discount_pct\"]"
   ]
  },
  {
   "cell_type": "code",
   "execution_count": 30,
   "id": "b4ea1a40-9d52-4e48-8518-8b2fc4721e36",
   "metadata": {},
   "outputs": [
    {
     "data": {
      "text/plain": [
       "Index(['date', 'division', 'category', 'product_code', 'product', 'market',\n",
       "       'platform', 'channel', 'customer_code', 'customer_name', 'qty',\n",
       "       'fiscal_year', 'gross_price', 'gross_sales_amt',\n",
       "       'pre_invoice_discount_pct', 'pre_invoice_disc_amt'],\n",
       "      dtype='object')"
      ]
     },
     "execution_count": 30,
     "metadata": {},
     "output_type": "execute_result"
    }
   ],
   "source": [
    "nmerge_fae.columns"
   ]
  },
  {
   "cell_type": "markdown",
   "id": "02ac46a3-6094-4185-917c-1bfa56180d3b",
   "metadata": {},
   "source": [
    "<h2 align=\"center\" style=\"color:blue\">Calculating net_invoice_sales_amt  </h2>"
   ]
  },
  {
   "cell_type": "markdown",
   "id": "5ab63d7c-0a8b-4fc1-a5df-e00f6000af73",
   "metadata": {},
   "source": [
    "net_invoice_sales_amt = gross_sales amount - pre_invoice_disc_amt column"
   ]
  },
  {
   "cell_type": "code",
   "execution_count": 32,
   "id": "5c2bbadf-fd7a-4d68-bf8b-3419781e4128",
   "metadata": {},
   "outputs": [],
   "source": [
    "nmerge_fae[\"net_invoice_sales_amt\"] = nmerge_fae[\"gross_sales_amt\"] - nmerge_fae[\"pre_invoice_disc_amt\"]"
   ]
  },
  {
   "cell_type": "code",
   "execution_count": 61,
   "id": "3780cc53-e84b-47d6-a391-9e61c6a380a2",
   "metadata": {},
   "outputs": [
    {
     "data": {
      "text/plain": [
       "Index(['date', 'division', 'category', 'product_code', 'product', 'market',\n",
       "       'platform', 'channel', 'customer_code', 'customer_name', 'qty',\n",
       "       'fiscal_year', 'gross_price', 'gross_sales_amt',\n",
       "       'pre_invoice_discount_pct'],\n",
       "      dtype='object')"
      ]
     },
     "execution_count": 61,
     "metadata": {},
     "output_type": "execute_result"
    }
   ],
   "source": [
    "nmerge_fae.columns"
   ]
  },
  {
   "cell_type": "markdown",
   "id": "1e143533-c7cc-4155-bc5b-ec5dccaa7b51",
   "metadata": {},
   "source": [
    "<h2 align=\"center\" style=\"color:blue\">Dropping Redundant Columns</h2>"
   ]
  },
  {
   "cell_type": "code",
   "execution_count": 35,
   "id": "4947c01e-e75e-4e3c-9a25-e9fc526f1dbc",
   "metadata": {},
   "outputs": [],
   "source": [
    "nmerge_fae.drop(['division','category','product','platform','channel','customer_name'], axis=1, inplace=True)"
   ]
  },
  {
   "cell_type": "code",
   "execution_count": 36,
   "id": "f5b1921f-2015-4a7d-be64-032d72170443",
   "metadata": {},
   "outputs": [
    {
     "data": {
      "text/plain": [
       "Index(['date', 'product_code', 'market', 'customer_code', 'qty', 'fiscal_year',\n",
       "       'gross_price', 'gross_sales_amt', 'pre_invoice_discount_pct',\n",
       "       'pre_invoice_disc_amt', 'net_invoice_sales_amt'],\n",
       "      dtype='object')"
      ]
     },
     "execution_count": 36,
     "metadata": {},
     "output_type": "execute_result"
    }
   ],
   "source": [
    "nmerge_fae.columns"
   ]
  },
  {
   "cell_type": "code",
   "execution_count": 37,
   "id": "0c4c4b00-9d8d-47be-be48-84f7410c8a1b",
   "metadata": {},
   "outputs": [
    {
     "data": {
      "text/plain": [
       "(1858329, 11)"
      ]
     },
     "execution_count": 37,
     "metadata": {},
     "output_type": "execute_result"
    }
   ],
   "source": [
    "nmerge_fae.shape"
   ]
  },
  {
   "cell_type": "markdown",
   "id": "d9ba40ef-4971-4338-b8a5-74bfd6c5fa62",
   "metadata": {},
   "source": [
    "<h2 align=\"center\" style=\"color:blue\">Importing and joining with post_invoice_deductions table </h2>"
   ]
  },
  {
   "cell_type": "markdown",
   "id": "2cf1fd05-9bb4-4bb2-a049-7c12ee514fcc",
   "metadata": {},
   "source": [
    "#### Importing post_invoice_deductions table from post_df.csv"
   ]
  },
  {
   "cell_type": "code",
   "execution_count": 39,
   "id": "054fd9ea-9f98-4957-bda7-7d6cd2dfffdb",
   "metadata": {},
   "outputs": [
    {
     "data": {
      "text/plain": [
       "(2063076, 5)"
      ]
     },
     "execution_count": 39,
     "metadata": {},
     "output_type": "execute_result"
    }
   ],
   "source": [
    "post = pd.read_csv(\"post_df.csv\")\n",
    "post.shape"
   ]
  },
  {
   "cell_type": "code",
   "execution_count": 40,
   "id": "bec472fe-0936-47d6-80a6-0fb3c8928f69",
   "metadata": {},
   "outputs": [
    {
     "name": "stdout",
     "output_type": "stream",
     "text": [
      "<class 'pandas.core.frame.DataFrame'>\n",
      "RangeIndex: 2063076 entries, 0 to 2063075\n",
      "Data columns (total 5 columns):\n",
      " #   Column                Dtype  \n",
      "---  ------                -----  \n",
      " 0   customer_code         int64  \n",
      " 1   product_code          object \n",
      " 2   date                  object \n",
      " 3   discounts_pct         float64\n",
      " 4   other_deductions_pct  float64\n",
      "dtypes: float64(2), int64(1), object(2)\n",
      "memory usage: 78.7+ MB\n"
     ]
    }
   ],
   "source": [
    "post.info()"
   ]
  },
  {
   "cell_type": "code",
   "execution_count": 41,
   "id": "cc581c56-591c-4ffb-82d7-c931a503e9a4",
   "metadata": {},
   "outputs": [],
   "source": [
    "post['date'] = pd.to_datetime(post['date'])"
   ]
  },
  {
   "cell_type": "markdown",
   "id": "267df6ff-8462-420c-8b97-2126defa3f69",
   "metadata": {},
   "source": [
    "#### getting discounts_pct from post df to nmerge_fae"
   ]
  },
  {
   "cell_type": "code",
   "execution_count": 43,
   "id": "a3c2d789-4c0e-4e61-a2ab-708a0006b8b9",
   "metadata": {},
   "outputs": [],
   "source": [
    "post_merge = pd.merge(\n",
    "    nmerge_fae,\n",
    "    post,\n",
    "    how='left',  # or 'inner', 'right', 'outer' depending on your use case\n",
    "    on=['customer_code', 'product_code','date']\n",
    ")"
   ]
  },
  {
   "cell_type": "code",
   "execution_count": 44,
   "id": "65b07936-b488-47d1-9c64-15e0e143cc0d",
   "metadata": {},
   "outputs": [
    {
     "data": {
      "text/plain": [
       "Index(['date', 'product_code', 'market', 'customer_code', 'qty', 'fiscal_year',\n",
       "       'gross_price', 'gross_sales_amt', 'pre_invoice_discount_pct',\n",
       "       'pre_invoice_disc_amt', 'net_invoice_sales_amt', 'discounts_pct',\n",
       "       'other_deductions_pct'],\n",
       "      dtype='object')"
      ]
     },
     "execution_count": 44,
     "metadata": {},
     "output_type": "execute_result"
    }
   ],
   "source": [
    "post_merge.columns"
   ]
  },
  {
   "cell_type": "markdown",
   "id": "b26f8bb7-733e-42e5-8119-42d6e8615ad5",
   "metadata": {},
   "source": [
    "<h2 align=\"center\" style=\"color:blue\">post invoice deductions amount from percentages </h2>"
   ]
  },
  {
   "cell_type": "code",
   "execution_count": 45,
   "id": "d8d60e70-1291-4ad2-9fa9-fb3bdbe74572",
   "metadata": {},
   "outputs": [],
   "source": [
    "post_merge[\"post_invoice_dedns_amt\"] = post_merge[\"discounts_pct\"] * post_merge[\"net_invoice_sales_amt\"]"
   ]
  },
  {
   "cell_type": "code",
   "execution_count": 46,
   "id": "43902a65-13a4-498f-98c7-3562a58b5fd4",
   "metadata": {},
   "outputs": [
    {
     "data": {
      "text/plain": [
       "Index(['date', 'product_code', 'market', 'customer_code', 'qty', 'fiscal_year',\n",
       "       'gross_price', 'gross_sales_amt', 'pre_invoice_discount_pct',\n",
       "       'pre_invoice_disc_amt', 'net_invoice_sales_amt', 'discounts_pct',\n",
       "       'other_deductions_pct', 'post_invoice_dedns_amt'],\n",
       "      dtype='object')"
      ]
     },
     "execution_count": 46,
     "metadata": {},
     "output_type": "execute_result"
    }
   ],
   "source": [
    "post_merge.columns"
   ]
  },
  {
   "cell_type": "code",
   "execution_count": 47,
   "id": "e08288ae-fba0-4d16-8000-f6444f0958bd",
   "metadata": {},
   "outputs": [],
   "source": [
    "post_merge[\"post_invoice_other_dedns_amt\"] = post_merge[\"other_deductions_pct\"] * post_merge[\"net_invoice_sales_amt\"]"
   ]
  },
  {
   "cell_type": "code",
   "execution_count": 48,
   "id": "9c66e34f-89c8-4209-afe3-df8ccea789eb",
   "metadata": {},
   "outputs": [
    {
     "data": {
      "text/plain": [
       "Index(['date', 'product_code', 'market', 'customer_code', 'qty', 'fiscal_year',\n",
       "       'gross_price', 'gross_sales_amt', 'pre_invoice_discount_pct',\n",
       "       'pre_invoice_disc_amt', 'net_invoice_sales_amt', 'discounts_pct',\n",
       "       'other_deductions_pct', 'post_invoice_dedns_amt',\n",
       "       'post_invoice_other_dedns_amt'],\n",
       "      dtype='object')"
      ]
     },
     "execution_count": 48,
     "metadata": {},
     "output_type": "execute_result"
    }
   ],
   "source": [
    "post_merge.columns"
   ]
  },
  {
   "cell_type": "markdown",
   "id": "c60160d6-72dc-4b0c-9846-351b80c02b9c",
   "metadata": {},
   "source": [
    "<h2 align=\"center\" style=\"color:blue\">Net Sales Amount </h2>"
   ]
  },
  {
   "cell_type": "code",
   "execution_count": 49,
   "id": "7a4e9666-a1e2-45fa-befc-94564cb68df8",
   "metadata": {},
   "outputs": [],
   "source": [
    "post_merge[\"net_sales_amt\"] = post_merge[\"net_invoice_sales_amt\"] - post_merge[\"post_invoice_dedns_amt\"] - post_merge[\"post_invoice_other_dedns_amt\"]"
   ]
  },
  {
   "cell_type": "code",
   "execution_count": 50,
   "id": "90fc4697-fcb0-4499-8d2a-4a5d311de1fc",
   "metadata": {},
   "outputs": [
    {
     "data": {
      "text/plain": [
       "Index(['date', 'product_code', 'market', 'customer_code', 'qty', 'fiscal_year',\n",
       "       'gross_price', 'gross_sales_amt', 'pre_invoice_discount_pct',\n",
       "       'pre_invoice_disc_amt', 'net_invoice_sales_amt', 'discounts_pct',\n",
       "       'other_deductions_pct', 'post_invoice_dedns_amt',\n",
       "       'post_invoice_other_dedns_amt', 'net_sales_amt'],\n",
       "      dtype='object')"
      ]
     },
     "execution_count": 50,
     "metadata": {},
     "output_type": "execute_result"
    }
   ],
   "source": [
    "post_merge.columns"
   ]
  },
  {
   "cell_type": "markdown",
   "id": "4cdf1117-f4f8-4b81-85a3-ddfa9b448341",
   "metadata": {},
   "source": [
    "<h2 align=\"center\" style=\"color:blue\">Importing and joining with manufacturing table </h2>"
   ]
  },
  {
   "cell_type": "markdown",
   "id": "f6c91721-f3ad-4d33-96f0-8178e1a6543e",
   "metadata": {},
   "source": [
    "#### Importing manufacturing table from manufacturing_df.csv"
   ]
  },
  {
   "cell_type": "code",
   "execution_count": 52,
   "id": "8c2fab0d-5fa6-40d0-8d5f-90c3c541974c",
   "metadata": {},
   "outputs": [
    {
     "data": {
      "text/plain": [
       "(1197, 3)"
      ]
     },
     "execution_count": 52,
     "metadata": {},
     "output_type": "execute_result"
    }
   ],
   "source": [
    "manu = pd.read_csv(\"manufacturing_df.csv\")\n",
    "manu.shape"
   ]
  },
  {
   "cell_type": "code",
   "execution_count": 53,
   "id": "d93c4b80-cb04-4ec1-ab4b-4f8712a7f5d5",
   "metadata": {},
   "outputs": [
    {
     "data": {
      "text/plain": [
       "Index(['product_code', 'cost_year', 'manufacturing_cost'], dtype='object')"
      ]
     },
     "execution_count": 53,
     "metadata": {},
     "output_type": "execute_result"
    }
   ],
   "source": [
    "manu.columns"
   ]
  },
  {
   "cell_type": "code",
   "execution_count": 54,
   "id": "93348fb1-593e-449e-8c47-2063e75d4959",
   "metadata": {},
   "outputs": [
    {
     "data": {
      "text/plain": [
       "Index(['product_code', 'fiscal_year', 'manufacturing_cost'], dtype='object')"
      ]
     },
     "execution_count": 54,
     "metadata": {},
     "output_type": "execute_result"
    }
   ],
   "source": [
    "manu.rename(columns={'cost_year': 'fiscal_year'}, inplace=True)\n",
    "manu.columns"
   ]
  },
  {
   "cell_type": "markdown",
   "id": "be55c126-5139-4e4d-b74e-b3b6dd1119fd",
   "metadata": {},
   "source": [
    "#### getting manufacturing_cost from manu df"
   ]
  },
  {
   "cell_type": "code",
   "execution_count": 56,
   "id": "571649d9-a49f-4fd3-9a5b-867413fcbd84",
   "metadata": {},
   "outputs": [],
   "source": [
    "manu_merge = pd.merge(\n",
    "    post_merge,\n",
    "    manu,\n",
    "    how='left',  # or 'inner', 'right', 'outer' depending on your use case\n",
    "    on=['product_code', 'fiscal_year']\n",
    ")"
   ]
  },
  {
   "cell_type": "code",
   "execution_count": 57,
   "id": "8276f240-e7c3-49e3-b4aa-93c5e15c7992",
   "metadata": {},
   "outputs": [
    {
     "data": {
      "text/plain": [
       "Index(['date', 'product_code', 'market', 'customer_code', 'qty', 'fiscal_year',\n",
       "       'gross_price', 'gross_sales_amt', 'pre_invoice_discount_pct',\n",
       "       'pre_invoice_disc_amt', 'net_invoice_sales_amt', 'discounts_pct',\n",
       "       'other_deductions_pct', 'post_invoice_dedns_amt',\n",
       "       'post_invoice_other_dedns_amt', 'net_sales_amt', 'manufacturing_cost'],\n",
       "      dtype='object')"
      ]
     },
     "execution_count": 57,
     "metadata": {},
     "output_type": "execute_result"
    }
   ],
   "source": [
    "manu_merge.columns"
   ]
  },
  {
   "cell_type": "markdown",
   "id": "bb10c384-6ec4-4e34-a84d-5a3a9671772a",
   "metadata": {},
   "source": [
    "<h2 align=\"center\" style=\"color:blue\"> Manufacturing Cost </h2>"
   ]
  },
  {
   "cell_type": "code",
   "execution_count": 58,
   "id": "cd769885-4aaf-4b90-8b9e-61b164024d5e",
   "metadata": {},
   "outputs": [
    {
     "data": {
      "text/plain": [
       "Index(['date', 'product_code', 'market', 'customer_code', 'qty', 'fiscal_year',\n",
       "       'gross_price', 'gross_sales_amt', 'pre_invoice_discount_pct',\n",
       "       'pre_invoice_disc_amt', 'net_invoice_sales_amt', 'discounts_pct',\n",
       "       'other_deductions_pct', 'post_invoice_dedns_amt',\n",
       "       'post_invoice_other_dedns_amt', 'net_sales_amt', 'manufacturing_cost'],\n",
       "      dtype='object')"
      ]
     },
     "execution_count": 58,
     "metadata": {},
     "output_type": "execute_result"
    }
   ],
   "source": [
    "manu_merge[\"manufacturing_cost\"] = manu_merge[\"manufacturing_cost\"] * manu_merge[\"qty\"]\n",
    "manu_merge.columns"
   ]
  },
  {
   "cell_type": "markdown",
   "id": "81e13fd9-4998-4b09-82b0-3e71b1f7f058",
   "metadata": {},
   "source": [
    "<h2 align=\"center\" style=\"color:blue\">Importing and joining with freight table </h2>"
   ]
  },
  {
   "cell_type": "markdown",
   "id": "40424cd6-957e-4319-97c3-d98ea8ebd3e0",
   "metadata": {},
   "source": [
    "#### Importing freight table from freight_df.csv"
   ]
  },
  {
   "cell_type": "code",
   "execution_count": 60,
   "id": "68478402-884d-44fb-ba19-5a4d57d670ef",
   "metadata": {},
   "outputs": [
    {
     "data": {
      "text/plain": [
       "(135, 4)"
      ]
     },
     "execution_count": 60,
     "metadata": {},
     "output_type": "execute_result"
    }
   ],
   "source": [
    "freight = pd.read_csv(\"freight_df.csv\")\n",
    "freight.shape"
   ]
  },
  {
   "cell_type": "code",
   "execution_count": 61,
   "id": "46e472b9-6790-440f-92f8-c0a95b688ac5",
   "metadata": {},
   "outputs": [
    {
     "data": {
      "text/plain": [
       "Index(['market', 'fiscal_year', 'freight_pct', 'other_cost_pct'], dtype='object')"
      ]
     },
     "execution_count": 61,
     "metadata": {},
     "output_type": "execute_result"
    }
   ],
   "source": [
    "freight.columns"
   ]
  },
  {
   "cell_type": "code",
   "execution_count": 62,
   "id": "626db284-eacd-4ec7-a8f6-d68579d85c31",
   "metadata": {},
   "outputs": [],
   "source": [
    "#### getting freight_cost from freight"
   ]
  },
  {
   "cell_type": "code",
   "execution_count": 63,
   "id": "0b2b8a32-0ba5-4806-a0fe-4070435539e4",
   "metadata": {},
   "outputs": [],
   "source": [
    "freight_merge = pd.merge(\n",
    "    manu_merge,\n",
    "    freight,\n",
    "    how='left',  # or 'inner', 'right', 'outer' depending on your use case\n",
    "    on=['market','fiscal_year']\n",
    ")"
   ]
  },
  {
   "cell_type": "code",
   "execution_count": 64,
   "id": "f16a8d8d-a4ef-4f80-b6a0-0980c25ec84b",
   "metadata": {},
   "outputs": [
    {
     "data": {
      "text/plain": [
       "Index(['date', 'product_code', 'market', 'customer_code', 'qty', 'fiscal_year',\n",
       "       'gross_price', 'gross_sales_amt', 'pre_invoice_discount_pct',\n",
       "       'pre_invoice_disc_amt', 'net_invoice_sales_amt', 'discounts_pct',\n",
       "       'other_deductions_pct', 'post_invoice_dedns_amt',\n",
       "       'post_invoice_other_dedns_amt', 'net_sales_amt', 'manufacturing_cost',\n",
       "       'freight_pct', 'other_cost_pct'],\n",
       "      dtype='object')"
      ]
     },
     "execution_count": 64,
     "metadata": {},
     "output_type": "execute_result"
    }
   ],
   "source": [
    "freight_merge.columns"
   ]
  },
  {
   "cell_type": "markdown",
   "id": "72f70d1d-a1e3-4b63-afa9-41aedee28890",
   "metadata": {},
   "source": [
    "<h2 align=\"center\" style=\"color:blue\">Freight cost from percentage </h2>"
   ]
  },
  {
   "cell_type": "code",
   "execution_count": 65,
   "id": "eae883fa-acac-4cdf-af9d-75bfee10b695",
   "metadata": {},
   "outputs": [
    {
     "data": {
      "text/plain": [
       "Index(['date', 'product_code', 'market', 'customer_code', 'qty', 'fiscal_year',\n",
       "       'gross_price', 'gross_sales_amt', 'pre_invoice_discount_pct',\n",
       "       'pre_invoice_disc_amt', 'net_invoice_sales_amt', 'discounts_pct',\n",
       "       'other_deductions_pct', 'post_invoice_dedns_amt',\n",
       "       'post_invoice_other_dedns_amt', 'net_sales_amt', 'manufacturing_cost',\n",
       "       'freight_pct', 'other_cost_pct', 'freight_cost'],\n",
       "      dtype='object')"
      ]
     },
     "execution_count": 65,
     "metadata": {},
     "output_type": "execute_result"
    }
   ],
   "source": [
    "freight_merge[\"freight_cost\"] = freight_merge[\"freight_pct\"] * freight_merge[\"net_sales_amt\"]\n",
    "freight_merge.columns"
   ]
  },
  {
   "cell_type": "markdown",
   "id": "aeb44843-f9a2-4813-a1ed-bdcc81a5e19b",
   "metadata": {},
   "source": [
    "<h2 align=\"center\" style=\"color:blue\">Other cost from percentage </h2>"
   ]
  },
  {
   "cell_type": "code",
   "execution_count": 66,
   "id": "390df45e-7377-4b38-b572-fb277056548f",
   "metadata": {},
   "outputs": [
    {
     "data": {
      "text/plain": [
       "Index(['date', 'product_code', 'market', 'customer_code', 'qty', 'fiscal_year',\n",
       "       'gross_price', 'gross_sales_amt', 'pre_invoice_discount_pct',\n",
       "       'pre_invoice_disc_amt', 'net_invoice_sales_amt', 'discounts_pct',\n",
       "       'other_deductions_pct', 'post_invoice_dedns_amt',\n",
       "       'post_invoice_other_dedns_amt', 'net_sales_amt', 'manufacturing_cost',\n",
       "       'freight_pct', 'other_cost_pct', 'freight_cost', 'other_cost'],\n",
       "      dtype='object')"
      ]
     },
     "execution_count": 66,
     "metadata": {},
     "output_type": "execute_result"
    }
   ],
   "source": [
    "freight_merge[\"other_cost\"] = freight_merge[\"other_cost_pct\"] * freight_merge[\"net_sales_amt\"]\n",
    "freight_merge.columns"
   ]
  },
  {
   "cell_type": "markdown",
   "id": "4b8ec8f4-e5c9-4d6b-a3ec-bedda8b0d1e9",
   "metadata": {},
   "source": [
    "<h2 align=\"center\" style=\"color:blue\">Total COGS</h2>"
   ]
  },
  {
   "cell_type": "code",
   "execution_count": 67,
   "id": "60a98cc3-40cc-4fa1-b0c1-320bea2a37f3",
   "metadata": {},
   "outputs": [],
   "source": [
    "freight_merge[\"total_cogs_amt\"] = freight_merge[\"manufacturing_cost\"] + freight_merge[\"freight_cost\"] + freight_merge[\"other_cost\"]"
   ]
  },
  {
   "cell_type": "code",
   "execution_count": 68,
   "id": "a2df35e6-4701-4d56-bf40-8c4f5e287a34",
   "metadata": {},
   "outputs": [
    {
     "data": {
      "text/plain": [
       "Index(['date', 'product_code', 'market', 'customer_code', 'qty', 'fiscal_year',\n",
       "       'gross_price', 'gross_sales_amt', 'pre_invoice_discount_pct',\n",
       "       'pre_invoice_disc_amt', 'net_invoice_sales_amt', 'discounts_pct',\n",
       "       'other_deductions_pct', 'post_invoice_dedns_amt',\n",
       "       'post_invoice_other_dedns_amt', 'net_sales_amt', 'manufacturing_cost',\n",
       "       'freight_pct', 'other_cost_pct', 'freight_cost', 'other_cost',\n",
       "       'total_cogs_amt'],\n",
       "      dtype='object')"
      ]
     },
     "execution_count": 68,
     "metadata": {},
     "output_type": "execute_result"
    }
   ],
   "source": [
    "freight_merge.columns"
   ]
  },
  {
   "cell_type": "markdown",
   "id": "482595c0-2e4a-4ce9-a9c5-b81beab84d6a",
   "metadata": {},
   "source": [
    "<h2 align=\"center\" style=\"color:blue\">Gross Margin Amount</h2>"
   ]
  },
  {
   "cell_type": "code",
   "execution_count": 69,
   "id": "f392760d-2c14-448d-a6d7-a1431c43daad",
   "metadata": {},
   "outputs": [],
   "source": [
    "freight_merge[\"gross_margin_amt\"] = freight_merge['net_sales_amt'] - freight_merge[\"total_cogs_amt\"]"
   ]
  },
  {
   "cell_type": "code",
   "execution_count": 70,
   "id": "d77da60b-64a5-46c7-9d50-f1c1fe6d696f",
   "metadata": {},
   "outputs": [
    {
     "data": {
      "text/plain": [
       "Index(['date', 'product_code', 'market', 'customer_code', 'qty', 'fiscal_year',\n",
       "       'gross_price', 'gross_sales_amt', 'pre_invoice_discount_pct',\n",
       "       'pre_invoice_disc_amt', 'net_invoice_sales_amt', 'discounts_pct',\n",
       "       'other_deductions_pct', 'post_invoice_dedns_amt',\n",
       "       'post_invoice_other_dedns_amt', 'net_sales_amt', 'manufacturing_cost',\n",
       "       'freight_pct', 'other_cost_pct', 'freight_cost', 'other_cost',\n",
       "       'total_cogs_amt', 'gross_margin_amt'],\n",
       "      dtype='object')"
      ]
     },
     "execution_count": 70,
     "metadata": {},
     "output_type": "execute_result"
    }
   ],
   "source": [
    "freight_merge.columns"
   ]
  },
  {
   "cell_type": "markdown",
   "id": "1e9b2fb7-dbba-4277-9e94-4570f5c37851",
   "metadata": {},
   "source": [
    "<h2 align=\"center\" style=\"color:blue\">Dropping unnecessary Columns</h2>"
   ]
  },
  {
   "cell_type": "code",
   "execution_count": 71,
   "id": "43fa4857-e640-4380-90a6-0cc068fb525d",
   "metadata": {},
   "outputs": [],
   "source": [
    "freight_merge.drop(['gross_price','pre_invoice_discount_pct',\n",
    "                    'discounts_pct','other_deductions_pct','freight_pct','other_cost_pct',], axis=1, inplace=True)"
   ]
  },
  {
   "cell_type": "code",
   "execution_count": 72,
   "id": "8d64df36-857f-49b5-a46f-b52cfe8bf6f0",
   "metadata": {},
   "outputs": [
    {
     "data": {
      "text/plain": [
       "Index(['date', 'product_code', 'market', 'customer_code', 'qty', 'fiscal_year',\n",
       "       'gross_sales_amt', 'pre_invoice_disc_amt', 'net_invoice_sales_amt',\n",
       "       'post_invoice_dedns_amt', 'post_invoice_other_dedns_amt',\n",
       "       'net_sales_amt', 'manufacturing_cost', 'freight_cost', 'other_cost',\n",
       "       'total_cogs_amt', 'gross_margin_amt'],\n",
       "      dtype='object')"
      ]
     },
     "execution_count": 72,
     "metadata": {},
     "output_type": "execute_result"
    }
   ],
   "source": [
    "freight_merge.columns"
   ]
  },
  {
   "cell_type": "markdown",
   "id": "17f8aa12-7adb-4301-ad5d-a657fc178262",
   "metadata": {},
   "source": [
    "freight_merge.drop(['total_cogs_amt', 'gross_margin_amt'], axis=1, inplace=True)"
   ]
  },
  {
   "cell_type": "code",
   "execution_count": 74,
   "id": "d3b750b5-a73a-468e-8169-2e8e6976af32",
   "metadata": {},
   "outputs": [
    {
     "data": {
      "text/plain": [
       "Index(['date', 'product_code', 'market', 'customer_code', 'qty', 'fiscal_year',\n",
       "       'gross_sales_amt', 'pre_invoice_disc_amt', 'net_invoice_sales_amt',\n",
       "       'post_invoice_dedns_amt', 'post_invoice_other_dedns_amt',\n",
       "       'net_sales_amt', 'manufacturing_cost', 'freight_cost', 'other_cost',\n",
       "       'total_cogs_amt', 'gross_margin_amt'],\n",
       "      dtype='object')"
      ]
     },
     "execution_count": 74,
     "metadata": {},
     "output_type": "execute_result"
    }
   ],
   "source": [
    "freight_merge.columns"
   ]
  },
  {
   "cell_type": "code",
   "execution_count": 75,
   "id": "8fe71fce-06a5-49a6-95a3-8ced65c3f0b3",
   "metadata": {},
   "outputs": [
    {
     "data": {
      "text/plain": [
       "(1858329, 17)"
      ]
     },
     "execution_count": 75,
     "metadata": {},
     "output_type": "execute_result"
    }
   ],
   "source": [
    "freight_merge.shape"
   ]
  },
  {
   "cell_type": "markdown",
   "id": "bac5e05d-9d7f-493f-948f-faf16caebea8",
   "metadata": {},
   "source": [
    "<h2 align=\"center\" style=\"color:blue\">Final columns in Transaction Data</h2>"
   ]
  },
  {
   "cell_type": "code",
   "execution_count": 76,
   "id": "f7353243-6154-457c-9bdc-e1ddda53db54",
   "metadata": {},
   "outputs": [
    {
     "name": "stdout",
     "output_type": "stream",
     "text": [
      "<class 'pandas.core.frame.DataFrame'>\n",
      "RangeIndex: 1858329 entries, 0 to 1858328\n",
      "Data columns (total 17 columns):\n",
      " #   Column                        Dtype         \n",
      "---  ------                        -----         \n",
      " 0   date                          datetime64[ns]\n",
      " 1   product_code                  object        \n",
      " 2   market                        object        \n",
      " 3   customer_code                 int64         \n",
      " 4   qty                           int64         \n",
      " 5   fiscal_year                   int32         \n",
      " 6   gross_sales_amt               float64       \n",
      " 7   pre_invoice_disc_amt          float64       \n",
      " 8   net_invoice_sales_amt         float64       \n",
      " 9   post_invoice_dedns_amt        float64       \n",
      " 10  post_invoice_other_dedns_amt  float64       \n",
      " 11  net_sales_amt                 float64       \n",
      " 12  manufacturing_cost            float64       \n",
      " 13  freight_cost                  float64       \n",
      " 14  other_cost                    float64       \n",
      " 15  total_cogs_amt                float64       \n",
      " 16  gross_margin_amt              float64       \n",
      "dtypes: datetime64[ns](1), float64(11), int32(1), int64(2), object(2)\n",
      "memory usage: 233.9+ MB\n"
     ]
    }
   ],
   "source": [
    "freight_merge.info()"
   ]
  },
  {
   "cell_type": "markdown",
   "id": "2bd70fb2-b1af-4049-a74a-585c7f0c4cb5",
   "metadata": {},
   "source": [
    "<h2 align=\"center\" style=\"color:blue\">Optimizing Datatypes</h2>"
   ]
  },
  {
   "cell_type": "code",
   "execution_count": 141,
   "id": "c23d2e41-7223-4a72-8444-f58fd9ccac7e",
   "metadata": {},
   "outputs": [],
   "source": [
    "freight_merge['market'] = freight_merge['market'].astype('category')\n",
    "freight_merge['product_code'] = freight_merge['product_code'].astype('category')\n",
    "freight_merge['customer_code'] = freight_merge['customer_code'].astype('category')\n",
    "freight_merge['fiscal_year'] = freight_merge['fiscal_year'].astype('category')"
   ]
  },
  {
   "cell_type": "code",
   "execution_count": 145,
   "id": "cf611c86-b277-44c5-8ecd-b8709c77e7e0",
   "metadata": {},
   "outputs": [],
   "source": [
    "float_cols = ['gross_sales_amt', 'pre_invoice_disc_amt', 'net_invoice_sales_amt',\n",
    "              'post_invoice_dedns_amt', 'post_invoice_other_dedns_amt', 'net_sales_amt',\n",
    "              'manufacturing_cost', 'freight_cost', 'other_cost', 'total_cogs_amt',\n",
    "              'gross_margin_amt']\n",
    "freight_merge[float_cols] = freight_merge[float_cols].astype('float32')"
   ]
  },
  {
   "cell_type": "code",
   "execution_count": 147,
   "id": "dfab4fd9-5815-41fb-b2b8-609eee469055",
   "metadata": {},
   "outputs": [
    {
     "name": "stdout",
     "output_type": "stream",
     "text": [
      "<class 'pandas.core.frame.DataFrame'>\n",
      "RangeIndex: 1858329 entries, 0 to 1858328\n",
      "Data columns (total 17 columns):\n",
      " #   Column                        Dtype         \n",
      "---  ------                        -----         \n",
      " 0   date                          datetime64[ns]\n",
      " 1   product_code                  category      \n",
      " 2   market                        category      \n",
      " 3   customer_code                 category      \n",
      " 4   qty                           int64         \n",
      " 5   fiscal_year                   category      \n",
      " 6   gross_sales_amt               float32       \n",
      " 7   pre_invoice_disc_amt          float32       \n",
      " 8   net_invoice_sales_amt         float32       \n",
      " 9   post_invoice_dedns_amt        float32       \n",
      " 10  post_invoice_other_dedns_amt  float32       \n",
      " 11  net_sales_amt                 float32       \n",
      " 12  manufacturing_cost            float32       \n",
      " 13  freight_cost                  float32       \n",
      " 14  other_cost                    float32       \n",
      " 15  total_cogs_amt                float32       \n",
      " 16  gross_margin_amt              float32       \n",
      "dtypes: category(4), datetime64[ns](1), float32(11), int64(1)\n",
      "memory usage: 117.0 MB\n"
     ]
    }
   ],
   "source": [
    "freight_merge.info()"
   ]
  },
  {
   "cell_type": "code",
   "execution_count": 149,
   "id": "3a46b9ac-bbaa-4de7-bc25-ec6703eff984",
   "metadata": {},
   "outputs": [],
   "source": [
    "freight_merge.to_csv(\"final_hw.csv\", index=False)"
   ]
  },
  {
   "cell_type": "code",
   "execution_count": 3,
   "id": "60169c07-e5c6-43e7-995f-733b2631fad1",
   "metadata": {},
   "outputs": [
    {
     "data": {
      "text/plain": [
       "(1858329, 17)"
      ]
     },
     "execution_count": 3,
     "metadata": {},
     "output_type": "execute_result"
    }
   ],
   "source": [
    "fhw = pd.read_csv(\"final_hw.csv\")\n",
    "fhw.shape"
   ]
  },
  {
   "cell_type": "code",
   "execution_count": 5,
   "id": "d0e9363c-cedb-4d67-a3c6-70394cc83346",
   "metadata": {},
   "outputs": [
    {
     "data": {
      "text/html": [
       "<div>\n",
       "<style scoped>\n",
       "    .dataframe tbody tr th:only-of-type {\n",
       "        vertical-align: middle;\n",
       "    }\n",
       "\n",
       "    .dataframe tbody tr th {\n",
       "        vertical-align: top;\n",
       "    }\n",
       "\n",
       "    .dataframe thead th {\n",
       "        text-align: right;\n",
       "    }\n",
       "</style>\n",
       "<table border=\"1\" class=\"dataframe\">\n",
       "  <thead>\n",
       "    <tr style=\"text-align: right;\">\n",
       "      <th></th>\n",
       "      <th>date</th>\n",
       "      <th>product_code</th>\n",
       "      <th>market</th>\n",
       "      <th>customer_code</th>\n",
       "      <th>qty</th>\n",
       "      <th>fiscal_year</th>\n",
       "      <th>gross_sales_amt</th>\n",
       "      <th>pre_invoice_disc_amt</th>\n",
       "      <th>net_invoice_sales_amt</th>\n",
       "      <th>post_invoice_dedns_amt</th>\n",
       "      <th>post_invoice_other_dedns_amt</th>\n",
       "      <th>net_sales_amt</th>\n",
       "      <th>manufacturing_cost</th>\n",
       "      <th>freight_cost</th>\n",
       "      <th>other_cost</th>\n",
       "      <th>total_cogs_amt</th>\n",
       "      <th>gross_margin_amt</th>\n",
       "    </tr>\n",
       "  </thead>\n",
       "  <tbody>\n",
       "    <tr>\n",
       "      <th>0</th>\n",
       "      <td>2017-09-01</td>\n",
       "      <td>A6218160101</td>\n",
       "      <td>Australia</td>\n",
       "      <td>70008169</td>\n",
       "      <td>81</td>\n",
       "      <td>2018</td>\n",
       "      <td>1069.2730</td>\n",
       "      <td>101.95376</td>\n",
       "      <td>967.31915</td>\n",
       "      <td>163.93845</td>\n",
       "      <td>101.42222</td>\n",
       "      <td>701.95850</td>\n",
       "      <td>315.2277</td>\n",
       "      <td>13.196819</td>\n",
       "      <td>3.509792</td>\n",
       "      <td>331.93433</td>\n",
       "      <td>370.02417</td>\n",
       "    </tr>\n",
       "    <tr>\n",
       "      <th>1</th>\n",
       "      <td>2017-09-01</td>\n",
       "      <td>A6218160101</td>\n",
       "      <td>Australia</td>\n",
       "      <td>90008165</td>\n",
       "      <td>157</td>\n",
       "      <td>2018</td>\n",
       "      <td>2072.5413</td>\n",
       "      <td>590.42220</td>\n",
       "      <td>1482.11910</td>\n",
       "      <td>264.21942</td>\n",
       "      <td>173.24141</td>\n",
       "      <td>1044.65830</td>\n",
       "      <td>610.9969</td>\n",
       "      <td>19.639576</td>\n",
       "      <td>5.223291</td>\n",
       "      <td>635.85974</td>\n",
       "      <td>408.79852</td>\n",
       "    </tr>\n",
       "    <tr>\n",
       "      <th>2</th>\n",
       "      <td>2017-09-01</td>\n",
       "      <td>A6218160101</td>\n",
       "      <td>Australia</td>\n",
       "      <td>90008166</td>\n",
       "      <td>126</td>\n",
       "      <td>2018</td>\n",
       "      <td>1663.3134</td>\n",
       "      <td>479.66418</td>\n",
       "      <td>1183.64920</td>\n",
       "      <td>248.15797</td>\n",
       "      <td>133.24884</td>\n",
       "      <td>802.24240</td>\n",
       "      <td>490.3542</td>\n",
       "      <td>15.082157</td>\n",
       "      <td>4.011212</td>\n",
       "      <td>509.44757</td>\n",
       "      <td>292.79483</td>\n",
       "    </tr>\n",
       "    <tr>\n",
       "      <th>3</th>\n",
       "      <td>2017-09-01</td>\n",
       "      <td>A6218160101</td>\n",
       "      <td>Australia</td>\n",
       "      <td>90008167</td>\n",
       "      <td>160</td>\n",
       "      <td>2018</td>\n",
       "      <td>2112.1440</td>\n",
       "      <td>411.22906</td>\n",
       "      <td>1700.91490</td>\n",
       "      <td>344.45093</td>\n",
       "      <td>222.56755</td>\n",
       "      <td>1133.89650</td>\n",
       "      <td>622.6720</td>\n",
       "      <td>21.317253</td>\n",
       "      <td>5.669482</td>\n",
       "      <td>649.65875</td>\n",
       "      <td>484.23773</td>\n",
       "    </tr>\n",
       "    <tr>\n",
       "      <th>4</th>\n",
       "      <td>2017-09-01</td>\n",
       "      <td>A6218160101</td>\n",
       "      <td>Australia</td>\n",
       "      <td>70008170</td>\n",
       "      <td>120</td>\n",
       "      <td>2018</td>\n",
       "      <td>1584.1080</td>\n",
       "      <td>300.41412</td>\n",
       "      <td>1283.69380</td>\n",
       "      <td>247.07115</td>\n",
       "      <td>153.45836</td>\n",
       "      <td>883.16437</td>\n",
       "      <td>467.0040</td>\n",
       "      <td>16.603490</td>\n",
       "      <td>4.415822</td>\n",
       "      <td>488.02332</td>\n",
       "      <td>395.14105</td>\n",
       "    </tr>\n",
       "  </tbody>\n",
       "</table>\n",
       "</div>"
      ],
      "text/plain": [
       "         date product_code     market  customer_code  qty  fiscal_year  \\\n",
       "0  2017-09-01  A6218160101  Australia       70008169   81         2018   \n",
       "1  2017-09-01  A6218160101  Australia       90008165  157         2018   \n",
       "2  2017-09-01  A6218160101  Australia       90008166  126         2018   \n",
       "3  2017-09-01  A6218160101  Australia       90008167  160         2018   \n",
       "4  2017-09-01  A6218160101  Australia       70008170  120         2018   \n",
       "\n",
       "   gross_sales_amt  pre_invoice_disc_amt  net_invoice_sales_amt  \\\n",
       "0        1069.2730             101.95376              967.31915   \n",
       "1        2072.5413             590.42220             1482.11910   \n",
       "2        1663.3134             479.66418             1183.64920   \n",
       "3        2112.1440             411.22906             1700.91490   \n",
       "4        1584.1080             300.41412             1283.69380   \n",
       "\n",
       "   post_invoice_dedns_amt  post_invoice_other_dedns_amt  net_sales_amt  \\\n",
       "0               163.93845                     101.42222      701.95850   \n",
       "1               264.21942                     173.24141     1044.65830   \n",
       "2               248.15797                     133.24884      802.24240   \n",
       "3               344.45093                     222.56755     1133.89650   \n",
       "4               247.07115                     153.45836      883.16437   \n",
       "\n",
       "   manufacturing_cost  freight_cost  other_cost  total_cogs_amt  \\\n",
       "0            315.2277     13.196819    3.509792       331.93433   \n",
       "1            610.9969     19.639576    5.223291       635.85974   \n",
       "2            490.3542     15.082157    4.011212       509.44757   \n",
       "3            622.6720     21.317253    5.669482       649.65875   \n",
       "4            467.0040     16.603490    4.415822       488.02332   \n",
       "\n",
       "   gross_margin_amt  \n",
       "0         370.02417  \n",
       "1         408.79852  \n",
       "2         292.79483  \n",
       "3         484.23773  \n",
       "4         395.14105  "
      ]
     },
     "execution_count": 5,
     "metadata": {},
     "output_type": "execute_result"
    }
   ],
   "source": [
    "fhw.head()"
   ]
  },
  {
   "cell_type": "code",
   "execution_count": null,
   "id": "6e00c914-bd84-4ce9-b842-f039ff6a6298",
   "metadata": {},
   "outputs": [],
   "source": []
  }
 ],
 "metadata": {
  "kernelspec": {
   "display_name": "Python [conda env:base] *",
   "language": "python",
   "name": "conda-base-py"
  },
  "language_info": {
   "codemirror_mode": {
    "name": "ipython",
    "version": 3
   },
   "file_extension": ".py",
   "mimetype": "text/x-python",
   "name": "python",
   "nbconvert_exporter": "python",
   "pygments_lexer": "ipython3",
   "version": "3.12.7"
  }
 },
 "nbformat": 4,
 "nbformat_minor": 5
}
